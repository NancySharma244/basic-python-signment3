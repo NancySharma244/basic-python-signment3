{
 "cells": [
  {
   "cell_type": "markdown",
   "id": "d4c84a92",
   "metadata": {},
   "source": [
    "1. Why are functions advantageous to have in your programs?\n",
    "   Functions reduce the need for duplicate code. This makes programs easier to read ,easier to update."
   ]
  },
  {
   "cell_type": "markdown",
   "id": "dfcbc2d6",
   "metadata": {},
   "source": [
    "2. When does the code in a function run: when it's specified or when it's called?\n",
    "   The code in a function executes when the function is called, not when the function is specified."
   ]
  },
  {
   "cell_type": "markdown",
   "id": "7d0373c5",
   "metadata": {},
   "source": [
    "3. What statement creates a function?\n",
    "   Python creating functions. A function is created with the def keyword.The def keyword is followed by the function name      with round brackets and colon."
   ]
  },
  {
   "cell_type": "markdown",
   "id": "0b464eb6",
   "metadata": {},
   "source": [
    "4. What is the difference between a function and a function call?\n",
    "   A function is a block of code  which only run when it is called .you can pass data ,known as parameters,into a function    can return data as a resultA function call is the code used to pass control to a function."
   ]
  },
  {
   "cell_type": "markdown",
   "id": "e05454ef",
   "metadata": {},
   "source": [
    "5. How many global scopes are there in a Python program? How many local scopes?\n",
    "   There is only one global python scope per program excution. This scope remains in existence until the program terminats    and all its name are forgotten "
   ]
  },
  {
   "cell_type": "markdown",
   "id": "80db4fa5",
   "metadata": {},
   "source": [
    "6. What happens to variables in a local scope when the function call returns?\n",
    "   When the excution of the function returns,the local variables are destroyed. "
   ]
  },
  {
   "cell_type": "markdown",
   "id": "17ffc326",
   "metadata": {},
   "source": [
    "7. What is the concept of a return value? Is it possible to have a return value in an expression?\n",
    "   A return is a value that a function returns to the calling script or function when it completes its task\n"
   ]
  },
  {
   "cell_type": "markdown",
   "id": "6bdb0616",
   "metadata": {},
   "source": [
    "8. If a function does not have a return statement, what is the return value of a call to that function?\n",
    "   If no return statement appears in a function definition ,control automatically returns to the calling function after the    last statement of the called function is executed.In this ,the return value of called function is defined."
   ]
  },
  {
   "cell_type": "markdown",
   "id": "f13626fd",
   "metadata": {},
   "source": [
    "9. How do you make a function variable refer to the global variable?\n",
    "   You can use the global keyword to declare which variable are global"
   ]
  },
  {
   "cell_type": "markdown",
   "id": "5940299a",
   "metadata": {},
   "source": [
    "10. What is the data type of None?\n",
    "    None is a data type of its own nonetype and only none can be none"
   ]
  },
  {
   "cell_type": "markdown",
   "id": "98a569a8",
   "metadata": {},
   "source": [
    "11. What does the sentence import areallyourpetsnamederic do?\n",
    "    That import statement import a module named areallyourpetsnamederic."
   ]
  },
  {
   "cell_type": "markdown",
   "id": "db1c2d4e",
   "metadata": {},
   "source": [
    "12. If you had a bacon() feature in a spam module, what would you call it after importing spam?\n",
    "    This function can be called with spam.bacon()"
   ]
  },
  {
   "cell_type": "markdown",
   "id": "c9618cdf",
   "metadata": {},
   "source": [
    "13. What can you do to save a programme from crashing if it encounters an error?\n",
    "    Try running the program and it should throw an error message instead of crashing the program \n",
    "    "
   ]
  },
  {
   "cell_type": "markdown",
   "id": "57a4725d",
   "metadata": {},
   "source": [
    "14. What is the purpose of the try clause? What is the purpose of the except clause?\n",
    "    The try blocks lets you test a block of code for errors. The except block lets you handle the error."
   ]
  }
 ],
 "metadata": {
  "kernelspec": {
   "display_name": "Python 3 (ipykernel)",
   "language": "python",
   "name": "python3"
  },
  "language_info": {
   "codemirror_mode": {
    "name": "ipython",
    "version": 3
   },
   "file_extension": ".py",
   "mimetype": "text/x-python",
   "name": "python",
   "nbconvert_exporter": "python",
   "pygments_lexer": "ipython3",
   "version": "3.9.7"
  }
 },
 "nbformat": 4,
 "nbformat_minor": 5
}
